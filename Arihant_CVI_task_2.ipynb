{
  "nbformat": 4,
  "nbformat_minor": 0,
  "metadata": {
    "colab": {
      "name": "Arihant_CVI_task_2.ipynb",
      "provenance": [],
      "collapsed_sections": [],
      "toc_visible": true,
      "machine_shape": "hm",
      "include_colab_link": true
    },
    "kernelspec": {
      "name": "python3",
      "display_name": "Python 3"
    },
    "accelerator": "GPU"
  },
  "cells": [
    {
      "cell_type": "markdown",
      "metadata": {
        "id": "view-in-github",
        "colab_type": "text"
      },
      "source": [
        "<a href=\"https://colab.research.google.com/github/jaideepgadekar/Arihant_AUV_CVI/blob/main/Arihant_CVI_task_2.ipynb\" target=\"_parent\"><img src=\"https://colab.research.google.com/assets/colab-badge.svg\" alt=\"Open In Colab\"/></a>"
      ]
    },
    {
      "cell_type": "code",
      "metadata": {
        "id": "z0gDkp8AcEOB"
      },
      "source": [
        "import numpy as np\n",
        "import keras\n",
        "from PIL import Image\n",
        "import random\n",
        "from keras.applications.imagenet_utils import preprocess_input\n",
        "from keras.preprocessing import image\n",
        "from keras import layers\n",
        "from keras.models import Sequential\n",
        "from keras.layers import Input, Dense,Dropout ,Activation, ZeroPadding2D, BatchNormalization, Flatten, Conv2D, Activation\n",
        "from keras.layers import AveragePooling2D, MaxPooling2D, Dropout, GlobalMaxPooling2D, GlobalAveragePooling2D\n",
        "from keras.models import Model"
      ],
      "execution_count": null,
      "outputs": []
    },
    {
      "cell_type": "code",
      "metadata": {
        "id": "YlmVSFdbcSkq",
        "outputId": "5ee77b77-f552-4b65-c868-b49574748195",
        "colab": {
          "base_uri": "https://localhost:8080/",
          "height": 34
        }
      },
      "source": [
        "import os\n",
        "import matplotlib.pyplot as plt\n",
        "import cv2\n",
        "from google.colab import drive\n",
        "\n",
        "# Accessing My Google Drive\n",
        "drive.mount('/content/drive')"
      ],
      "execution_count": null,
      "outputs": [
        {
          "output_type": "stream",
          "text": [
            "Mounted at /content/drive\n"
          ],
          "name": "stdout"
        }
      ]
    },
    {
      "cell_type": "code",
      "metadata": {
        "id": "OGZoRquwcX73",
        "outputId": "0ab66afa-50f9-49d9-e9c8-20908c750002",
        "colab": {
          "base_uri": "https://localhost:8080/",
          "height": 34
        }
      },
      "source": [
        "# helper function to load image and return it and input vector\n",
        "def get_image(path):\n",
        "    img = image.load_img(path, target_size=(224, 224))\n",
        "    x = image.img_to_array(img)\n",
        "    x = np.expand_dims(x, axis=0)\n",
        "    x = preprocess_input(x)\n",
        "    return img, x\n",
        "image_path = \"drive/My Drive/Data for DL/\"\n",
        "img,x = get_image(image_path + 'drone/' + '00000000.jpg')\n",
        "print(img, x.shape)"
      ],
      "execution_count": null,
      "outputs": [
        {
          "output_type": "stream",
          "text": [
            "<PIL.Image.Image image mode=RGB size=224x224 at 0x7F131C7D7BA8> (1, 224, 224, 3)\n"
          ],
          "name": "stdout"
        }
      ]
    },
    {
      "cell_type": "code",
      "metadata": {
        "id": "b1A9a2SacoU1",
        "outputId": "216fbbab-2903-4762-a186-7b225cad5799",
        "colab": {
          "base_uri": "https://localhost:8080/",
          "height": 54
        }
      },
      "source": [
        "root = 'drive/My Drive/Data for DL'\n",
        "train_split, val_split = 0.7, 0.15\n",
        "\n",
        "categories = [x[0] for x in os.walk(root) if x[0]][1:]\n",
        "\n",
        "print(categories)"
      ],
      "execution_count": null,
      "outputs": [
        {
          "output_type": "stream",
          "text": [
            "['drive/My Drive/Data for DL/rocket', 'drive/My Drive/Data for DL/passenger-plane', 'drive/My Drive/Data for DL/helicopter', 'drive/My Drive/Data for DL/fighter-jet', 'drive/My Drive/Data for DL/missile', 'drive/My Drive/Data for DL/drone']\n"
          ],
          "name": "stdout"
        }
      ]
    },
    {
      "cell_type": "code",
      "metadata": {
        "id": "HZ-sx_nQcsHN"
      },
      "source": [
        "data = []\n",
        "for c, category in enumerate(categories):\n",
        "    images = [os.path.join(dp, f) for dp, dn, filenames \n",
        "              in os.walk(category) for f in filenames \n",
        "              if os.path.splitext(f)[1].lower() in ['.jpg','.png','.jpeg']]\n",
        "    for img_path in images:\n",
        "        img, x = get_image(img_path)\n",
        "        data.append({'x':np.array(x[0]), 'y':c})\n",
        "\n",
        "# count the number of classes\n",
        "num_classes = len(categories)"
      ],
      "execution_count": null,
      "outputs": []
    },
    {
      "cell_type": "code",
      "metadata": {
        "id": "cVDpSJPLcvsW",
        "outputId": "4ad13539-f847-4b60-e067-ddd0f5fc1416",
        "colab": {
          "base_uri": "https://localhost:8080/",
          "height": 34
        }
      },
      "source": [
        "print(num_classes)\n",
        "random.seed(4)\n",
        "random.shuffle(data)\n"
      ],
      "execution_count": null,
      "outputs": [
        {
          "output_type": "stream",
          "text": [
            "6\n"
          ],
          "name": "stdout"
        }
      ]
    },
    {
      "cell_type": "code",
      "metadata": {
        "id": "uaAxpzpTybu2"
      },
      "source": [
        "train_spllit = 0.9\n",
        "test_split = 0.1"
      ],
      "execution_count": null,
      "outputs": []
    },
    {
      "cell_type": "code",
      "metadata": {
        "id": "QpY7Qnb6yfkq"
      },
      "source": [
        "idx_test = int(train_split * len(data))\n",
        "train = data[:idx_test]\n",
        "test = data[idx_test:]"
      ],
      "execution_count": null,
      "outputs": []
    },
    {
      "cell_type": "code",
      "metadata": {
        "id": "An_THy5hyjUi",
        "outputId": "40ae3c67-385c-41e2-935b-33a3bdf82c85",
        "colab": {
          "base_uri": "https://localhost:8080/",
          "height": 54
        }
      },
      "source": [
        "#split data into X and Y\n",
        "x_train, y_train = np.array([t[\"x\"] for t in train]), [t[\"y\"] for t in train]\n",
        "x_test, y_test = np.array([t[\"x\"] for t in test]), [t[\"y\"] for t in test]\n",
        "print(y_test)"
      ],
      "execution_count": null,
      "outputs": [
        {
          "output_type": "stream",
          "text": [
            "[4, 4, 4, 0, 3, 5, 5, 1, 5, 3, 3, 5, 4, 2, 0, 4, 0, 3, 3, 3, 1, 3, 2, 5, 2, 4, 1, 4, 3, 0, 0, 4, 5, 4, 4, 5, 5, 3, 1, 1, 0, 3, 5, 1, 3, 1, 3, 1, 4, 5, 0, 1, 3, 4, 2, 5, 3, 4, 4, 3, 1, 3, 0, 5, 5, 2, 1, 5, 3, 0, 3, 1, 5, 3, 1, 3, 4, 3, 0, 3, 4, 4, 1, 1, 4, 3, 2, 0, 1, 3, 2, 4, 1, 0, 4, 0, 5, 2, 4, 2, 5, 5, 2, 1, 3, 4, 3, 5, 0, 1, 5, 4, 3, 0, 4, 4, 3, 4, 0, 0, 3, 1, 3, 2, 3, 4, 1, 2, 3, 5, 3, 4, 0, 2, 3, 0, 2, 5, 3, 5, 4, 5, 2, 5, 0, 5, 3, 5, 2, 5, 5, 2, 2, 3, 3, 3, 5, 4, 1, 1, 3, 3, 3, 2, 5, 1, 2, 1, 4, 4, 4, 4, 3, 5, 3, 2, 5, 5, 5, 3, 2, 2, 5, 0, 4, 5, 2, 1, 2, 4, 1, 1, 3, 0, 2, 3, 4, 5, 4, 2, 0, 5, 3, 2, 5, 3, 2, 5, 0, 3, 5, 2, 1, 3, 4, 3, 5, 2, 4, 0, 0, 0, 1, 3, 3, 5, 1, 1, 1, 4, 5, 5, 2, 3, 2, 3, 3, 5, 4, 1, 2, 5, 5, 3, 3, 0, 4, 3, 4, 5, 1, 3, 2, 4, 3, 0, 5, 1, 1, 0, 4, 4, 5, 2, 4, 5, 0, 0, 0, 5, 0, 1, 5, 4, 2, 5, 1, 0, 0, 1, 5, 5, 3, 5, 2, 0, 0, 2, 5, 5, 5, 2, 2, 1, 4, 4, 3, 3, 0, 2, 2, 3, 4, 5, 0, 0, 4, 3, 3, 3, 4, 2, 2, 0, 2, 3, 2, 3, 1, 3, 4, 5, 4, 1, 4, 3, 2, 2, 3, 2, 1, 0, 4, 3, 5, 3, 4, 3, 1, 0, 4, 5, 1, 1, 5, 4, 5, 2, 2, 1, 5, 1, 0, 0, 4, 1, 2, 0, 5, 4, 1, 2, 2, 0, 4, 2, 4, 3, 4, 2, 1, 3, 4, 1, 0, 0, 1, 2, 0, 4, 5, 1, 2, 5, 4, 1, 4, 4, 4, 3, 5, 0, 3, 3, 2, 5, 4, 4, 3, 5, 0, 5, 5, 1, 3, 3, 1, 3, 0, 2, 1, 4, 1, 3, 2, 0, 2, 2, 3, 4, 5, 5, 1, 3, 1, 1, 1, 2, 5, 1, 1, 3, 3, 3, 5, 3, 2, 2, 2, 4, 1, 2, 3, 1, 2, 5, 5, 5, 4, 3, 5, 1, 1, 1, 4, 4, 4, 1, 0, 1, 1, 4, 1, 3, 3, 1, 1, 0, 5, 2, 1, 2, 4, 0, 4, 3, 3, 4, 4, 3, 0, 1, 5, 2, 3, 5, 4, 1, 3, 5, 2, 5, 5, 0, 2, 2, 3, 1, 5, 1, 1, 0, 4, 4, 2, 4, 4, 3, 2, 1, 3, 3, 3, 1, 3, 0, 3, 2, 3, 4, 3, 2, 3, 5, 2, 5, 0, 5, 2, 3, 4, 5, 4, 0, 5, 3, 1, 3, 5, 2, 5, 0, 1, 3, 2, 3, 0, 3, 0, 1, 3, 4, 1, 3, 1, 1, 4, 0, 4, 1, 2, 2, 1, 5, 2, 2, 3, 0, 5, 5, 3, 1, 4, 4, 5, 0, 5, 5, 1, 3, 4, 3, 0, 4, 1, 3, 1, 4, 1, 4, 0, 4, 4, 1, 3, 2, 0, 5, 4, 2, 3, 1, 5, 3, 3, 4, 2, 4, 3, 1, 3, 1, 5, 5, 3, 0, 2, 3, 1, 4, 4, 5, 1, 1, 3, 3, 4, 4, 4, 2, 1, 3, 0, 4, 2, 2, 3, 4, 0, 1, 5, 3, 5, 3, 2, 4, 2, 3, 0, 3, 4, 2, 0, 2, 4, 2, 4, 1, 2, 2, 5, 3, 3, 0, 0, 4, 2, 2, 2, 2, 1, 0, 3, 1, 0, 5, 3, 3, 5, 0, 2, 1, 1, 2, 4, 0, 4, 5, 5, 1, 2, 1, 5, 4, 3, 1, 3, 2, 3, 1, 2, 2, 1, 0, 5, 2, 3, 1, 1, 0, 2, 3, 2, 2, 3, 4, 2, 0, 5, 3, 4, 2, 3, 1, 2, 4, 3, 3, 3, 3, 1, 1, 3, 3, 4, 3, 3, 3, 3, 5, 5, 5, 3, 1, 2, 5, 4, 5, 2, 3, 1, 4, 2, 5, 3, 2, 4, 5, 2, 0, 5, 2, 1, 5, 3, 4, 0, 3, 1, 0, 3, 4, 2, 1, 3, 3, 0, 2, 2, 1, 1, 1, 2, 0, 1, 2, 4, 4, 5, 1, 2, 3, 0, 4, 5, 3, 1, 4, 4, 2, 0, 0, 0, 1, 3, 1, 2, 2, 0, 4, 1, 4, 5, 1, 4, 5, 0, 5, 4, 3, 3, 0, 1, 4, 5, 5, 5, 1, 1, 1, 4, 4, 0, 4, 4, 2, 5, 4, 5, 4, 5, 1, 5, 1, 5, 2, 0, 0, 5, 2, 0, 3, 2, 2, 5, 2, 1, 2, 4, 2, 2, 4, 3, 0, 2, 0, 0, 5, 4, 4, 1, 2, 3, 3, 5, 4, 4, 4, 3, 4, 0, 5, 3, 4, 0, 3, 3, 1, 5, 4, 4, 5, 1, 2, 3, 4, 2, 1, 1, 3, 5, 1, 3, 1, 2, 0, 1, 2, 2, 3, 5, 3, 2, 1, 0, 3, 1, 3, 0, 3, 5, 2, 1, 0, 2, 3, 3, 3, 3, 3, 2, 4, 4, 3, 4, 0, 1, 1, 1, 3, 2, 4, 0, 5, 4, 3, 2, 5, 4, 4, 4, 2, 3, 3, 2, 4, 1, 5, 0, 5, 5, 2, 5, 4, 1, 1, 0, 4, 2, 5, 4, 1, 1, 3, 1, 4, 4, 2, 4, 3, 3, 4, 1, 4, 3, 5, 2, 0, 0, 1, 3, 1, 2, 3, 1, 4, 0, 1, 4, 4, 1, 5, 1, 5, 0, 5, 3, 0, 3, 2, 3, 0, 0, 5, 4, 5, 4, 3, 0, 3, 1, 5, 3, 5, 3, 0, 5, 5, 2, 4, 3, 5, 1, 4, 4, 5, 0, 4, 3, 4, 1, 3, 2, 3, 3, 2, 1, 0, 3, 1, 1, 3, 1, 2, 3, 2, 5, 2, 3, 3, 2, 5, 1, 0, 1, 1, 0, 5, 2, 4, 3, 2, 4, 3, 2, 4, 4, 1, 4, 0, 4, 3, 5, 4, 0, 2, 2, 4, 3, 0, 1, 4, 1, 0, 2, 4, 0, 5, 2, 0, 5, 1, 5, 3, 0, 3, 3, 3, 2, 5, 3, 0, 3, 5, 5, 1, 2, 2, 3, 3, 0, 1, 1, 4, 3, 1, 4, 0, 1, 1, 1, 3, 5, 0, 3, 5, 2, 1, 1, 3, 4, 4, 0, 2, 0, 0, 5, 0, 4, 1, 1, 3, 2, 5, 2, 4, 1, 1, 2, 4, 1, 5, 0, 5, 5, 1, 3, 3, 2, 0, 4, 1, 3, 5, 1, 3, 3, 3, 1, 2, 3, 4, 4, 5, 5, 4, 4, 5, 5, 2, 2, 4, 2, 3, 0, 5, 3, 4, 5, 3, 3, 4, 3, 1, 1, 2, 2, 0, 1, 1, 4, 4, 2, 2, 4, 2, 3, 4, 0, 4, 3, 0, 3, 4, 3, 2, 2, 2, 2, 3, 5, 2, 4, 1, 3, 1, 3, 3, 4, 3, 4, 3, 0, 5, 2, 0, 1, 2, 1, 3, 4, 3, 1, 2, 4, 5, 3, 4, 5, 4, 3, 2, 2, 4, 0, 4, 2, 4, 1, 3, 2, 2, 2, 4, 5, 4, 2, 2, 0, 0, 0, 1, 5, 0, 5, 1, 3, 2, 2, 5, 1, 5, 0, 4, 3, 2, 5, 2, 3, 1, 3, 2, 4, 0, 2, 2, 0, 5, 5, 5, 2, 3, 2, 2, 1, 3, 0, 4, 5, 2, 1, 2, 0, 2, 0, 1, 0, 0, 4, 2, 5, 3, 1, 2, 4, 2, 3, 1, 2, 2, 3, 2, 1, 1, 1, 3, 3, 3, 5, 5, 4, 0, 0, 3, 0, 1, 0, 2, 1, 5, 4, 3, 2, 5, 1, 4, 0, 1, 1, 3, 4, 2, 1, 1, 3, 3, 3, 1, 3, 5, 4, 1, 2, 1, 5, 1, 5, 2, 3, 3, 4, 3, 3, 3, 1, 1, 5, 3, 5, 0, 3, 3, 3, 3, 1, 2, 3, 1, 2, 3, 2, 3, 1, 4, 2, 3, 1, 4, 2, 3, 3, 1, 4, 5, 1, 0, 5, 0, 5, 3, 3, 0, 3, 5, 5, 1, 3, 2, 3, 2, 3, 4, 0, 5, 0, 2, 0, 0, 0, 3, 0, 3, 3, 5, 1, 3, 1, 3, 5, 3, 3, 0, 0, 2, 3, 3, 3, 1, 0, 5, 5, 0, 0, 5, 4, 5, 1, 4, 1, 3, 4, 1, 1, 0, 5, 2, 4, 0, 3, 5, 1, 0, 2, 4, 4, 3, 3, 2, 5, 0, 2, 1, 0, 5, 0, 4, 3, 3, 1, 4, 2, 3, 1, 1, 4, 5, 2, 1, 0, 3, 1, 1, 3, 5, 5, 4, 4, 0, 5, 0, 5, 2, 4, 3, 0, 4, 5, 0, 4, 3, 1, 1, 1, 3, 3, 5, 0, 0, 4, 2, 3, 1, 4, 5, 3, 2, 1, 5, 0, 3, 2, 3, 1, 5, 3, 3, 3, 4, 5, 2, 4, 1, 5, 3, 3, 1, 4, 2, 1, 1, 3, 1, 0, 0, 3, 0, 3, 5, 1, 2, 2, 0, 5, 4, 0, 3, 2, 3, 1, 3, 4, 5, 0, 5, 3, 1, 2, 0, 5, 0, 3, 3, 1, 2, 0, 1, 2, 4, 4, 4, 4, 0, 2, 0, 3, 2, 0, 2, 2, 2, 3, 2, 0, 1, 2, 4, 4, 4, 1, 0, 3, 3, 2, 4, 3, 4, 1, 1, 5, 0, 0, 1, 3, 1, 2, 1, 1, 0, 3, 3, 5, 2, 2, 3, 3, 1, 4, 3, 2, 1, 1, 1, 2, 1, 1, 0, 5, 4, 0, 4, 2, 4, 2, 2, 2, 3, 3, 3, 3, 2, 2, 0, 4, 1, 4, 0, 3, 4, 3, 3, 5, 3, 1, 5, 5, 0, 5, 3, 1, 0, 0, 5, 4, 1, 1, 5, 5, 3, 4, 4, 2, 3, 2, 3, 0, 1, 1, 3, 1, 4, 5, 4, 0, 4, 4, 5, 1, 4, 3, 5, 4, 5, 1, 3, 3, 3, 4, 1, 2, 4, 0, 0, 4, 5, 1, 0, 1, 1, 3, 2, 0, 2, 3, 0, 4, 3, 3, 5, 1, 3, 1, 5, 5, 1, 3, 0, 3, 1, 4, 5, 0, 1, 4, 5, 0, 3, 5, 3, 1, 3, 1, 2, 0, 0, 3, 1, 5, 1, 3, 4, 2, 2, 4, 5, 3, 2, 5, 4, 2, 1, 5, 2, 5, 2, 0, 1, 1, 2, 2, 3, 3, 1, 4, 1, 3, 3, 1, 3, 4, 3, 4, 0, 3, 2, 1, 0, 2, 3, 3, 2, 4, 5, 4, 2, 4, 4, 5, 1, 2, 1, 1, 3, 2, 0, 0, 4, 5, 0, 3, 1, 3, 1, 4, 0, 0, 4, 3, 4, 4, 5, 3, 0, 1, 3, 0, 5, 3, 4, 2, 0, 3, 1, 0, 1, 4, 3, 4, 3, 3, 5, 0, 4, 1, 0, 5, 2, 2, 3, 2, 3, 0, 3, 3, 0, 5, 2, 5, 1, 5, 0, 4, 4, 5, 5, 3, 2, 5, 5, 1, 3, 3, 4, 4, 3, 1, 1, 3, 4, 0, 4, 3, 2, 5, 4, 3, 5, 1, 5, 5, 5, 3, 2, 0, 1, 3, 3, 4, 1, 5, 2, 2, 3, 5, 3, 5, 4, 3, 5, 2, 4, 5, 1, 3, 4, 5, 2, 0, 3, 1, 1, 0, 4, 3, 4, 0, 1, 0, 1, 4, 5, 1, 0, 3, 5, 1, 0, 2, 0, 2, 5, 2, 5, 4, 5, 3, 3, 2, 3, 1, 5, 5, 1, 1, 2, 0, 3, 5, 1, 4, 1, 1, 2, 3, 1, 3, 5, 4, 0, 5, 5, 5, 0, 4, 4, 5, 0, 5, 2, 3, 1, 4, 1, 3, 3, 5, 3, 1, 5, 5, 0, 1, 0, 0, 2, 5, 0, 1, 0, 4, 1, 5, 3, 0, 1, 3, 5, 4, 3, 3, 3, 5, 4, 2, 1, 0, 5, 0, 5, 0, 1, 5, 5, 0, 4, 3, 5, 2, 5, 3, 1, 3, 1, 4, 0, 5, 1, 4, 5, 2, 5, 3, 5, 5, 2, 0, 3, 1, 0, 3, 2, 5, 2, 2, 4, 3, 3, 3, 2, 3, 5, 1, 1, 0, 3, 2, 2, 1, 1, 4, 5, 2, 3, 2, 4, 5, 2, 3, 3, 3, 2, 4, 1, 2, 1, 1, 3, 3, 5, 1, 3, 5, 2, 3, 5, 4, 1, 3, 4, 4, 3, 1, 4, 5, 5, 2, 3, 1, 0, 5, 5, 4, 0, 5, 3, 3, 3, 3, 1, 1, 0, 5, 4, 4, 2, 4, 0, 4, 4, 5, 3, 0, 3, 0, 5, 1, 1, 2, 2, 5, 5, 1, 5, 5, 3, 2, 0, 0, 5, 3, 3, 2, 4, 3, 1, 2, 5, 5, 1, 1, 3, 4, 3, 1, 3, 0, 2, 0, 2, 3, 5, 2, 3, 4, 1, 0, 2, 2, 3, 3, 2, 4, 3, 4, 5, 1, 3, 5, 4, 2, 5, 5, 3, 1, 5, 3, 0, 3, 0, 3, 4, 5, 1, 4, 1, 2, 1, 4, 2, 1, 3, 0, 3, 3, 3, 4, 4, 3, 0, 3, 5, 1, 3, 0, 1, 4, 0, 5, 5, 3, 1, 2, 4, 5, 3, 1, 2, 2, 4, 2, 1, 4, 5, 3, 2, 0, 5, 4, 4, 4, 1, 1, 1, 4, 5, 2, 4, 3, 2, 4, 5, 1, 1, 3, 3, 0, 1, 4, 0, 1, 3, 5, 1, 0, 1, 0, 5, 5, 3, 2, 2, 0, 2, 4, 4, 1, 3, 0, 1, 2, 0, 2, 4, 4, 5, 5, 2, 0, 3, 1, 4, 0, 2, 3, 1, 5, 4, 3, 3, 2, 4, 3, 5, 3, 3, 2, 2, 4, 1, 4, 5, 0, 4, 1, 3, 0, 3, 1, 3, 4, 2, 2, 3, 3, 3, 0, 0, 2, 5, 2, 4, 3, 5, 4, 2, 0, 5, 4, 5, 3, 2, 5, 2, 4, 3, 1, 0, 3, 3, 5, 0, 1, 2, 0, 0, 0, 1, 2, 4, 2, 5, 1, 3, 4, 4, 2, 5, 0, 4, 0, 3, 2, 4, 3, 1, 3, 5, 2, 3, 1, 4, 1, 3, 3, 3, 0, 3, 3, 1, 4, 0, 5, 5, 3, 2, 3, 1, 2, 3, 2, 0, 1, 3, 2, 3, 5, 4, 2, 3, 5, 2, 4, 0, 2, 1, 3, 5, 3, 5, 0, 1, 0, 3, 3, 2, 2, 5, 4, 3, 4, 4, 2, 5, 3, 3, 0, 3, 1, 3, 5, 3, 2, 3, 5, 4, 3, 1, 4, 3, 3, 2, 2, 3, 3, 0, 2, 3, 1, 2, 3, 4, 2, 0, 3, 4, 0, 0, 1, 1, 5, 4, 1, 3, 2]\n"
          ],
          "name": "stdout"
        }
      ]
    },
    {
      "cell_type": "code",
      "metadata": {
        "id": "BYQlEHY1yngK",
        "outputId": "e9845739-902e-41f2-9386-a425c5e40eb0",
        "colab": {
          "base_uri": "https://localhost:8080/",
          "height": 34
        }
      },
      "source": [
        "# normalize data\n",
        "x_train = x_train.astype('float32') / 255.\n",
        "x_test = x_test.astype('float32') / 255.\n",
        "\n",
        "# convert labels to one-hot vectors\n",
        "y_train = keras.utils.to_categorical(y_train, num_classes)\n",
        "y_test = keras.utils.to_categorical(y_test, num_classes)\n",
        "print(y_test.shape)"
      ],
      "execution_count": null,
      "outputs": [
        {
          "output_type": "stream",
          "text": [
            "(2533, 6)\n"
          ],
          "name": "stdout"
        }
      ]
    },
    {
      "cell_type": "code",
      "metadata": {
        "id": "EL8iElMOyvTD",
        "outputId": "2122d471-a4df-42d4-b200-8f43908a7b27",
        "colab": {
          "base_uri": "https://localhost:8080/",
          "height": 85
        }
      },
      "source": [
        "# summary\n",
        "print(\"finished loading %d images from %d categories\"%(len(data), num_classes))\n",
        "print(\"train/ test split: %d, %d\"%(len(x_train), len(x_test)))\n",
        "print(\"training data shape: \", x_train.shape)\n",
        "print(\"training labels shape: \", y_train.shape)"
      ],
      "execution_count": null,
      "outputs": [
        {
          "output_type": "stream",
          "text": [
            "finished loading 8442 images from 6 categories\n",
            "train/ test split: 5909, 2533\n",
            "training data shape:  (5909, 224, 224, 3)\n",
            "training labels shape:  (5909, 6)\n"
          ],
          "name": "stdout"
        }
      ]
    },
    {
      "cell_type": "code",
      "metadata": {
        "id": "57YZNkExyz76",
        "outputId": "fdbe4126-5de1-434f-a804-c6fab50cfe49",
        "colab": {
          "base_uri": "https://localhost:8080/",
          "height": 935
        }
      },
      "source": [
        "# load model without output layer\n",
        "vgg = keras.applications.VGG16(weights='imagenet', include_top= True)\n",
        "vgg.summary()"
      ],
      "execution_count": null,
      "outputs": [
        {
          "output_type": "stream",
          "text": [
            "Model: \"vgg16\"\n",
            "_________________________________________________________________\n",
            "Layer (type)                 Output Shape              Param #   \n",
            "=================================================================\n",
            "input_4 (InputLayer)         [(None, 224, 224, 3)]     0         \n",
            "_________________________________________________________________\n",
            "block1_conv1 (Conv2D)        (None, 224, 224, 64)      1792      \n",
            "_________________________________________________________________\n",
            "block1_conv2 (Conv2D)        (None, 224, 224, 64)      36928     \n",
            "_________________________________________________________________\n",
            "block1_pool (MaxPooling2D)   (None, 112, 112, 64)      0         \n",
            "_________________________________________________________________\n",
            "block2_conv1 (Conv2D)        (None, 112, 112, 128)     73856     \n",
            "_________________________________________________________________\n",
            "block2_conv2 (Conv2D)        (None, 112, 112, 128)     147584    \n",
            "_________________________________________________________________\n",
            "block2_pool (MaxPooling2D)   (None, 56, 56, 128)       0         \n",
            "_________________________________________________________________\n",
            "block3_conv1 (Conv2D)        (None, 56, 56, 256)       295168    \n",
            "_________________________________________________________________\n",
            "block3_conv2 (Conv2D)        (None, 56, 56, 256)       590080    \n",
            "_________________________________________________________________\n",
            "block3_conv3 (Conv2D)        (None, 56, 56, 256)       590080    \n",
            "_________________________________________________________________\n",
            "block3_pool (MaxPooling2D)   (None, 28, 28, 256)       0         \n",
            "_________________________________________________________________\n",
            "block4_conv1 (Conv2D)        (None, 28, 28, 512)       1180160   \n",
            "_________________________________________________________________\n",
            "block4_conv2 (Conv2D)        (None, 28, 28, 512)       2359808   \n",
            "_________________________________________________________________\n",
            "block4_conv3 (Conv2D)        (None, 28, 28, 512)       2359808   \n",
            "_________________________________________________________________\n",
            "block4_pool (MaxPooling2D)   (None, 14, 14, 512)       0         \n",
            "_________________________________________________________________\n",
            "block5_conv1 (Conv2D)        (None, 14, 14, 512)       2359808   \n",
            "_________________________________________________________________\n",
            "block5_conv2 (Conv2D)        (None, 14, 14, 512)       2359808   \n",
            "_________________________________________________________________\n",
            "block5_conv3 (Conv2D)        (None, 14, 14, 512)       2359808   \n",
            "_________________________________________________________________\n",
            "block5_pool (MaxPooling2D)   (None, 7, 7, 512)         0         \n",
            "_________________________________________________________________\n",
            "flatten (Flatten)            (None, 25088)             0         \n",
            "_________________________________________________________________\n",
            "fc1 (Dense)                  (None, 4096)              102764544 \n",
            "_________________________________________________________________\n",
            "fc2 (Dense)                  (None, 4096)              16781312  \n",
            "_________________________________________________________________\n",
            "predictions (Dense)          (None, 1000)              4097000   \n",
            "=================================================================\n",
            "Total params: 138,357,544\n",
            "Trainable params: 138,357,544\n",
            "Non-trainable params: 0\n",
            "_________________________________________________________________\n"
          ],
          "name": "stdout"
        }
      ]
    },
    {
      "cell_type": "code",
      "metadata": {
        "id": "0TpFknddy80s"
      },
      "source": [
        "inp = vgg.input\n",
        "new_classfication_layer = Dense(6, activation= 'softmax')\n",
        "out = new_classfication_layer(vgg.layers[-2].output)\n",
        "model_new = Model(inp, out)"
      ],
      "execution_count": null,
      "outputs": []
    },
    {
      "cell_type": "code",
      "metadata": {
        "id": "Lpfx_LrfzJKn",
        "outputId": "2e3efa11-cd9b-44f2-e1b6-b3ba81577b40",
        "colab": {
          "base_uri": "https://localhost:8080/",
          "height": 935
        }
      },
      "source": [
        "# make all layers untrainable by freezing weights (except for last layer)\n",
        "for l, layer in enumerate(model_new.layers[:-3]):\n",
        "    layer.trainable = False\n",
        "\n",
        "# ensure the last layer is trainable/not frozen\n",
        "for l, layer in enumerate(model_new.layers[-3:]):\n",
        "    layer.trainable = True\n",
        "\n",
        "model_new.compile(loss='categorical_crossentropy',\n",
        "              optimizer='adam',\n",
        "              metrics=['accuracy'])\n",
        "\n",
        "model_new.summary()"
      ],
      "execution_count": null,
      "outputs": [
        {
          "output_type": "stream",
          "text": [
            "Model: \"functional_7\"\n",
            "_________________________________________________________________\n",
            "Layer (type)                 Output Shape              Param #   \n",
            "=================================================================\n",
            "input_4 (InputLayer)         [(None, 224, 224, 3)]     0         \n",
            "_________________________________________________________________\n",
            "block1_conv1 (Conv2D)        (None, 224, 224, 64)      1792      \n",
            "_________________________________________________________________\n",
            "block1_conv2 (Conv2D)        (None, 224, 224, 64)      36928     \n",
            "_________________________________________________________________\n",
            "block1_pool (MaxPooling2D)   (None, 112, 112, 64)      0         \n",
            "_________________________________________________________________\n",
            "block2_conv1 (Conv2D)        (None, 112, 112, 128)     73856     \n",
            "_________________________________________________________________\n",
            "block2_conv2 (Conv2D)        (None, 112, 112, 128)     147584    \n",
            "_________________________________________________________________\n",
            "block2_pool (MaxPooling2D)   (None, 56, 56, 128)       0         \n",
            "_________________________________________________________________\n",
            "block3_conv1 (Conv2D)        (None, 56, 56, 256)       295168    \n",
            "_________________________________________________________________\n",
            "block3_conv2 (Conv2D)        (None, 56, 56, 256)       590080    \n",
            "_________________________________________________________________\n",
            "block3_conv3 (Conv2D)        (None, 56, 56, 256)       590080    \n",
            "_________________________________________________________________\n",
            "block3_pool (MaxPooling2D)   (None, 28, 28, 256)       0         \n",
            "_________________________________________________________________\n",
            "block4_conv1 (Conv2D)        (None, 28, 28, 512)       1180160   \n",
            "_________________________________________________________________\n",
            "block4_conv2 (Conv2D)        (None, 28, 28, 512)       2359808   \n",
            "_________________________________________________________________\n",
            "block4_conv3 (Conv2D)        (None, 28, 28, 512)       2359808   \n",
            "_________________________________________________________________\n",
            "block4_pool (MaxPooling2D)   (None, 14, 14, 512)       0         \n",
            "_________________________________________________________________\n",
            "block5_conv1 (Conv2D)        (None, 14, 14, 512)       2359808   \n",
            "_________________________________________________________________\n",
            "block5_conv2 (Conv2D)        (None, 14, 14, 512)       2359808   \n",
            "_________________________________________________________________\n",
            "block5_conv3 (Conv2D)        (None, 14, 14, 512)       2359808   \n",
            "_________________________________________________________________\n",
            "block5_pool (MaxPooling2D)   (None, 7, 7, 512)         0         \n",
            "_________________________________________________________________\n",
            "flatten (Flatten)            (None, 25088)             0         \n",
            "_________________________________________________________________\n",
            "fc1 (Dense)                  (None, 4096)              102764544 \n",
            "_________________________________________________________________\n",
            "fc2 (Dense)                  (None, 4096)              16781312  \n",
            "_________________________________________________________________\n",
            "dense_3 (Dense)              (None, 6)                 24582     \n",
            "=================================================================\n",
            "Total params: 134,285,126\n",
            "Trainable params: 119,570,438\n",
            "Non-trainable params: 14,714,688\n",
            "_________________________________________________________________\n"
          ],
          "name": "stdout"
        }
      ]
    },
    {
      "cell_type": "code",
      "metadata": {
        "id": "-e2-2GGKzNcX",
        "outputId": "5b8b7a2c-7c3c-4638-8901-6755f35d992a",
        "colab": {
          "base_uri": "https://localhost:8080/",
          "height": 527
        }
      },
      "source": [
        "history = model_new.fit(x_train, y_train, \n",
        "                         batch_size=128, \n",
        "                         epochs=15)"
      ],
      "execution_count": null,
      "outputs": [
        {
          "output_type": "stream",
          "text": [
            "Epoch 1/15\n",
            "47/47 [==============================] - 11s 244ms/step - loss: 4.8166 - accuracy: 0.2765\n",
            "Epoch 2/15\n",
            "47/47 [==============================] - 11s 244ms/step - loss: 1.1693 - accuracy: 0.5451\n",
            "Epoch 3/15\n",
            "47/47 [==============================] - 11s 245ms/step - loss: 0.8458 - accuracy: 0.6818\n",
            "Epoch 4/15\n",
            "47/47 [==============================] - 11s 243ms/step - loss: 0.6038 - accuracy: 0.7676\n",
            "Epoch 5/15\n",
            "47/47 [==============================] - 11s 244ms/step - loss: 0.4383 - accuracy: 0.8294\n",
            "Epoch 6/15\n",
            "47/47 [==============================] - 11s 244ms/step - loss: 0.3360 - accuracy: 0.8702\n",
            "Epoch 7/15\n",
            "47/47 [==============================] - 11s 244ms/step - loss: 0.2434 - accuracy: 0.9017\n",
            "Epoch 8/15\n",
            "47/47 [==============================] - 11s 244ms/step - loss: 0.1861 - accuracy: 0.9201\n",
            "Epoch 9/15\n",
            "47/47 [==============================] - 11s 244ms/step - loss: 0.1640 - accuracy: 0.9200\n",
            "Epoch 10/15\n",
            "47/47 [==============================] - 11s 244ms/step - loss: 0.1571 - accuracy: 0.9240\n",
            "Epoch 11/15\n",
            "47/47 [==============================] - 11s 244ms/step - loss: 0.1539 - accuracy: 0.9257\n",
            "Epoch 12/15\n",
            "47/47 [==============================] - 11s 244ms/step - loss: 0.1729 - accuracy: 0.9193\n",
            "Epoch 13/15\n",
            "47/47 [==============================] - 11s 244ms/step - loss: 0.1447 - accuracy: 0.9281\n",
            "Epoch 14/15\n",
            "47/47 [==============================] - 11s 244ms/step - loss: 0.1338 - accuracy: 0.9323\n",
            "Epoch 15/15\n",
            "47/47 [==============================] - 11s 244ms/step - loss: 0.1812 - accuracy: 0.9137\n"
          ],
          "name": "stdout"
        }
      ]
    },
    {
      "cell_type": "code",
      "metadata": {
        "id": "ikzwGUFLzRtk",
        "outputId": "d479b96e-d8e7-4ee0-da0a-860f72326267",
        "colab": {
          "base_uri": "https://localhost:8080/",
          "height": 51
        }
      },
      "source": [
        "loss, accuracy = model_new.evaluate(x_test, y_test, verbose=0)\n",
        "\n",
        "print('Test loss:', loss)\n",
        "print('Test accuracy:', accuracy)"
      ],
      "execution_count": null,
      "outputs": [
        {
          "output_type": "stream",
          "text": [
            "Test loss: 2.10495924949646\n",
            "Test accuracy: 0.5874457359313965\n"
          ],
          "name": "stdout"
        }
      ]
    },
    {
      "cell_type": "code",
      "metadata": {
        "id": "xhtl38fv19we",
        "outputId": "d3972d6c-b133-4244-dd96-72a0f9788ac4",
        "colab": {
          "base_uri": "https://localhost:8080/",
          "height": 295
        }
      },
      "source": [
        "plt.plot(history.history['accuracy'])\n",
        "plt.title('model accuracy')\n",
        "plt.ylabel('accuracy')\n",
        "plt.xlabel('epoch')\n",
        "plt.show()"
      ],
      "execution_count": null,
      "outputs": [
        {
          "output_type": "display_data",
          "data": {
            "image/png": "[encoded data removed]",
            "text/plain": [
              "<Figure size 432x288 with 1 Axes>"
            ]
          },
          "metadata": {
            "tags": [],
            "needs_background": "light"
          }
        }
      ]
    },
    {
      "cell_type": "code",
      "metadata": {
        "id": "d8RIyAj67Uh2"
      },
      "source": [
        "y_test = np.argmax(y_test, axis=1)"
      ],
      "execution_count": null,
      "outputs": []
    },
    {
      "cell_type": "code",
      "metadata": {
        "id": "xs8W9Aof5XjH",
        "outputId": "1b57de52-ffd1-4796-c9b4-525045de5b76",
        "colab": {
          "base_uri": "https://localhost:8080/",
          "height": 374
        }
      },
      "source": [
        "from sklearn.metrics import classification_report, confusion_matrix\n",
        "#Confution Matrix and Classification Report\n",
        "Y_pred = model_new.predict(x_test)\n",
        "y_pred = np.argmax(Y_pred, axis=1)\n",
        "print('Confusion Matrix')\n",
        "print(confusion_matrix(y_test, y_pred))\n",
        "print('Classification Report')\n",
        "target_names = ['rocket', 'passener-plane','missile','helicopter', 'fighter-jet', 'drone' ]\n",
        "print(classification_report(y_test, y_pred, target_names=target_names))"
      ],
      "execution_count": null,
      "outputs": [
        {
          "output_type": "stream",
          "text": [
            "Confusion Matrix\n",
            "[[ 74  38   2 144  64   7]\n",
            " [  2 333  11  41  32  10]\n",
            " [  0  50 301  17  20  13]\n",
            " [102 116  13 262  49  22]\n",
            " [ 11  56   7  45 278  13]\n",
            " [  2  67  18  39  34 240]]\n",
            "Classification Report\n",
            "                precision    recall  f1-score   support\n",
            "\n",
            "        rocket       0.39      0.22      0.28       329\n",
            "passener-plane       0.50      0.78      0.61       429\n",
            "       missile       0.86      0.75      0.80       401\n",
            "    helicopter       0.48      0.46      0.47       564\n",
            "   fighter-jet       0.58      0.68      0.63       410\n",
            "         drone       0.79      0.60      0.68       400\n",
            "\n",
            "      accuracy                           0.59      2533\n",
            "     macro avg       0.60      0.58      0.58      2533\n",
            "  weighted avg       0.60      0.59      0.58      2533\n",
            "\n"
          ],
          "name": "stdout"
        }
      ]
    },
    {
      "cell_type": "code",
      "metadata": {
        "id": "dFYCERU_5kS2"
      },
      "source": [
        ""
      ],
      "execution_count": null,
      "outputs": []
    }
  ]
}